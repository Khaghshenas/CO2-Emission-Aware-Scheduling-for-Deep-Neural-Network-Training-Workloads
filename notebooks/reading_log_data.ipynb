{
 "cells": [
  {
   "cell_type": "code",
   "execution_count": null,
   "id": "dad17034",
   "metadata": {},
   "outputs": [],
   "source": [
    "import pandas as pd\n",
    "import os\n",
    "import datetime\n",
    "from datetime import datetime, date, time, timezone, timedelta\n",
    "import matplotlib.pyplot as plt\n",
    "from opt_functions import SusRes_MBC"
   ]
  },
  {
   "cell_type": "code",
   "execution_count": null,
   "id": "1938fa9e",
   "metadata": {},
   "outputs": [],
   "source": [
    "Pidle_server_with_storage = 75 + 2*30 + 24*3 + 5\n",
    "Pmax_server_with_storage = 75 + 2*30 + 36*7 + 24*8 + 18 #or 537 withought 2*30!!\n",
    "\n",
    "Pidle_server = 75 + 2*30 + 24*3\n",
    "Pmax_server = 75 + 2*30 + 36*7 + 24*8"
   ]
  },
  {
   "cell_type": "markdown",
   "id": "0b274b88",
   "metadata": {},
   "source": [
    "# Alexnet"
   ]
  },
  {
   "cell_type": "code",
   "execution_count": null,
   "id": "3c11c9ac",
   "metadata": {},
   "outputs": [],
   "source": [
    "#*********************************************************************\n",
    "job_power_dir = '/Data_logs/outputs/Alexnet/alextnet_epoch0&1/power_logs_alexnet/'\n",
    "#*********************************************************************"
   ]
  },
  {
   "cell_type": "markdown",
   "id": "2a3acee0",
   "metadata": {},
   "source": [
    "## reading gpu data"
   ]
  },
  {
   "cell_type": "code",
   "execution_count": null,
   "id": "73bdf48b",
   "metadata": {},
   "outputs": [],
   "source": [
    "job_power_data_gpu = pd.read_csv(job_power_dir + 'gpu_nvidia' +'.csv')\n",
    "job_power_data_gpu.columns = [c.replace(' ', '_') for c in job_power_data_gpu.columns]\n",
    "job_power_data_gpu.rename(columns={\"_power.draw_[W]\": \"power\", \"_timestamp\":\"time\", \"_utilization.gpu_[%]\":\"gpu_util\"\n",
    "                              , \"_temperature.gpu\":\"gpu_temp\", \"\":\"\"}, inplace=True)\n",
    "\n",
    "job_power_data_gpu.drop(job_power_data_gpu.columns.difference(['index','power','time', 'gpu_util', 'gpu_temp']), 1, inplace=True)\n",
    "\n",
    "job_power_data_gpu.power = job_power_data_gpu.power.str.replace('[^\\d.]', '').astype(float)\n",
    "job_power_data_gpu.gpu_util = job_power_data_gpu.gpu_util.str.replace('[^\\d.]', '').astype(float)\n",
    "\n",
    "job_power_data_gpu['time'] = job_power_data_gpu['time'].str.replace('\\.\\d\\d\\d', '')\n",
    "job_power_data_gpu.time = pd.to_datetime(job_power_data_gpu.time, format='%Y-%m-%d %H:%M:%S')"
   ]
  },
  {
   "cell_type": "code",
   "execution_count": null,
   "id": "d87ff0ea",
   "metadata": {},
   "outputs": [],
   "source": [
    "GPU0_data = job_power_data_gpu[job_power_data_gpu['index']==0].copy()\n",
    "GPU1_data = job_power_data_gpu[job_power_data_gpu['index']==1].copy()\n",
    "GPU2_data = job_power_data_gpu[job_power_data_gpu['index']==2].copy()\n",
    "GPU3_data = job_power_data_gpu[job_power_data_gpu['index']==3].copy()\n",
    "GPU4_data = job_power_data_gpu[job_power_data_gpu['index']==4].copy()\n",
    "GPU5_data = job_power_data_gpu[job_power_data_gpu['index']==5].copy()\n",
    "GPU6_data = job_power_data_gpu[job_power_data_gpu['index']==6].copy()\n",
    "GPU7_data = job_power_data_gpu[job_power_data_gpu['index']==7].copy()"
   ]
  },
  {
   "cell_type": "code",
   "execution_count": null,
   "id": "ce46b5c8",
   "metadata": {},
   "outputs": [],
   "source": [
    "GPU0_data = GPU0_data.set_index('time').resample('15s').mean()\n",
    "GPU1_data = GPU1_data.set_index('time').resample('15s').mean()\n",
    "GPU2_data = GPU2_data.set_index('time').resample('15s').mean()\n",
    "GPU3_data = GPU3_data.set_index('time').resample('15s').mean()\n",
    "GPU4_data = GPU4_data.set_index('time').resample('15s').mean()\n",
    "GPU5_data = GPU5_data.set_index('time').resample('15s').mean()\n",
    "GPU6_data = GPU6_data.set_index('time').resample('15s').mean()\n",
    "GPU7_data = GPU7_data.set_index('time').resample('15s').mean()"
   ]
  },
  {
   "cell_type": "markdown",
   "id": "eae73ff1",
   "metadata": {},
   "source": [
    "## reading cpu data"
   ]
  },
  {
   "cell_type": "code",
   "execution_count": null,
   "id": "e7e3e314",
   "metadata": {},
   "outputs": [],
   "source": [
    "job_power_data_cpu_top = pd.read_csv(job_power_dir + 'cpu_top_fixed' +'.csv')\n",
    "\n",
    "job_power_data_cpu_top.drop(job_power_data_cpu_top.columns.difference(['time','cpu_us', 'cpu_sy']), 1, inplace=True)\n",
    "\n",
    "#********************************************************************\n",
    "d1 = date(2021,11,18)\n",
    "d2 = date(1900,1,1)\n",
    "result1 = abs(d2-d1).days\n",
    "#********************************************************************\n",
    "\n",
    "job_power_data_cpu_top.time = pd.to_datetime(job_power_data_cpu_top.time, format='%H:%M:%S') + timedelta(result1) \n",
    "job_power_data_cpu_top = job_power_data_cpu_top.set_index('time').resample('15s').mean()\n",
    "\n",
    "job_power_data_cpu_top['cpu_util'] = job_power_data_cpu_top['cpu_us'] + job_power_data_cpu_top['cpu_sy']"
   ]
  },
  {
   "cell_type": "code",
   "execution_count": null,
   "id": "65e170ea",
   "metadata": {},
   "outputs": [],
   "source": [
    "#job_power_data_cpu_dstat = pd.read_csv(job_power_dir + 'cpu_dstat_fixed' +'.csv')\n",
    "\n",
    "#job_power_data_cpu_dstat.drop(job_power_data_cpu_dstat.columns.difference(['system_time','cpu_usage_usr','cpu_usage_sys']), 1, inplace=True)\n",
    "#job_power_data_cpu_dstat.rename(columns={\"system_time\": \"time\"}, inplace=True)\n",
    "\n",
    "#job_power_data_cpu_dstat.time = pd.to_datetime(job_power_data_cpu_dstat.time, format='%Y-%m-%d %H:%M:%S')\n",
    "#job_power_data_cpu_dstat = job_power_data_cpu_dstat.set_index('time').resample('3s').first()"
   ]
  },
  {
   "cell_type": "markdown",
   "id": "a7a012ff",
   "metadata": {},
   "source": [
    "## calculating average power"
   ]
  },
  {
   "cell_type": "code",
   "execution_count": null,
   "id": "eb51ffe6",
   "metadata": {},
   "outputs": [],
   "source": [
    "power_df = job_power_data_cpu_top.copy() \n",
    "power_df.drop(columns=['cpu_us', 'cpu_sy'], inplace=True)"
   ]
  },
  {
   "cell_type": "code",
   "execution_count": null,
   "id": "3bb43dd2",
   "metadata": {},
   "outputs": [],
   "source": [
    "power_df.cpu_util.plot()"
   ]
  },
  {
   "cell_type": "code",
   "execution_count": null,
   "id": "1ba2f68a",
   "metadata": {},
   "outputs": [],
   "source": [
    "#****************************************************\n",
    "power_df = power_df.iloc[50:-10]\n",
    "#****************************************************\n",
    "power_df.cpu_util.plot()"
   ]
  },
  {
   "cell_type": "code",
   "execution_count": null,
   "id": "da8cede3",
   "metadata": {},
   "outputs": [],
   "source": [
    "date0 = power_df.index[0]\n",
    "date1 = power_df.index[-1]\n",
    "\n",
    "GPU0_data = GPU0_data.loc[date0:date1].copy()\n",
    "GPU1_data = GPU1_data.loc[date0:date1].copy()\n",
    "GPU2_data = GPU2_data.loc[date0:date1].copy()\n",
    "GPU3_data = GPU3_data.loc[date0:date1].copy()\n",
    "GPU4_data = GPU4_data.loc[date0:date1].copy()\n",
    "GPU5_data = GPU5_data.loc[date0:date1].copy()\n",
    "GPU6_data = GPU6_data.loc[date0:date1].copy()\n",
    "GPU7_data = GPU7_data.loc[date0:date1].copy()"
   ]
  },
  {
   "cell_type": "code",
   "execution_count": null,
   "id": "c013cbca",
   "metadata": {},
   "outputs": [],
   "source": [
    "power_df['server_power'] = Pidle_server_with_storage + (Pmax_server_with_storage-Pidle_server_with_storage)*(power_df['cpu_util']/100)\n",
    "power_df['gpu_power'] = GPU0_data['power'] + GPU1_data['power'] +GPU2_data['power'] + GPU3_data['power'] + GPU4_data['power'] + GPU5_data['power'] + GPU6_data['power'] + GPU7_data['power']\n",
    "power_df['gpu_util'] = (GPU0_data['gpu_util'] + GPU1_data['gpu_util'] +GPU2_data['gpu_util'] + GPU3_data['gpu_util'] + GPU4_data['gpu_util'] + GPU5_data['gpu_util'] + GPU6_data['gpu_util'] + GPU7_data['gpu_util'])/8\n",
    "power_df['tot_power'] = power_df['server_power'] + power_df['gpu_power']"
   ]
  }
 ],
 "metadata": {
  "kernelspec": {
   "display_name": "Python 3",
   "language": "python",
   "name": "python3"
  },
  "language_info": {
   "codemirror_mode": {
    "name": "ipython",
    "version": 3
   },
   "file_extension": ".py",
   "mimetype": "text/x-python",
   "name": "python",
   "nbconvert_exporter": "python",
   "pygments_lexer": "ipython3",
   "version": "3.9.5"
  }
 },
 "nbformat": 4,
 "nbformat_minor": 5
}
