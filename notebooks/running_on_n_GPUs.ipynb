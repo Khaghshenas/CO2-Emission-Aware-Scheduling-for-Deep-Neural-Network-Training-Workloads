{
 "cells": [
  {
   "cell_type": "code",
   "execution_count": null,
   "id": "c345df76",
   "metadata": {},
   "outputs": [],
   "source": [
    "import pandas as pd\n",
    "import numpy as np\n",
    "import os\n",
    "import datetime\n",
    "from datetime import datetime, date, time, timezone\n",
    "from datetime import timedelta  \n",
    "import matplotlib.pyplot as plt\n",
    "import string\n",
    "from opt_functions import SusRes_MBC"
   ]
  },
  {
   "cell_type": "code",
   "execution_count": null,
   "id": "602af0db",
   "metadata": {},
   "outputs": [],
   "source": [
    "dir = '/Data_logs/outputs_n_GPUs/vgg16/batch_512/4gpu/'"
   ]
  },
  {
   "cell_type": "code",
   "execution_count": null,
   "id": "f693aa9c",
   "metadata": {},
   "outputs": [],
   "source": [
    "Pidle_server_with_storage = 75 + 2*30 + 24*3 + 5\n",
    "Pmax_server_with_storage = 75 + 2*30 + 36*7 + 24*8 + 18 #or 537 withought 2*30!!\n",
    "\n",
    "Pidle_server = 75 + 2*30 + 24*3\n",
    "Pmax_server = 75 + 2*30 + 36*7 + 24*8"
   ]
  },
  {
   "cell_type": "code",
   "execution_count": null,
   "id": "b6d20501",
   "metadata": {},
   "outputs": [],
   "source": [
    "def reading_gpu_data(job, batch, n_gpu, per):\n",
    "    \n",
    "    job_power_dir = dir + job +'/batch_' + str(batch) + '/' + str(n_gpu) + 'gpu/'\n",
    "    \n",
    "    job_power_data_gpu = pd.read_csv(job_power_dir + 'gpu_nvidia' +'.csv')\n",
    "    job_power_data_gpu.columns = [c.replace(' ', '_') for c in job_power_data_gpu.columns]\n",
    "    job_power_data_gpu.rename(columns={\"_power.draw_[W]\": \"power\", \"_timestamp\":\"time\", \"_utilization.gpu_[%]\":\"gpu_util\"\n",
    "                                  , \"_temperature.gpu\":\"gpu_temp\", \"\":\"\"}, inplace=True)\n",
    "    \n",
    "    job_power_data_gpu.drop(job_power_data_gpu.columns.difference(['index','power','time', 'gpu_util', 'gpu_temp', 'memory_used(MiB)', 'memory_total(MiB)']), 1, inplace=True)\n",
    "    \n",
    "    job_power_data_gpu.power = job_power_data_gpu.power.str.replace('[^\\d.]', '').astype(float)\n",
    "    job_power_data_gpu.gpu_util = job_power_data_gpu.gpu_util.str.replace('[^\\d.]', '').astype(float)\n",
    "    \n",
    "    job_power_data_gpu['time'] = job_power_data_gpu['time'].str.replace('\\.\\d\\d\\d', '')\n",
    "    job_power_data_gpu.time = pd.to_datetime(job_power_data_gpu.time, format='%Y-%m-%d %H:%M:%S')\n",
    "    \n",
    "    GPU0_data = job_power_data_gpu[job_power_data_gpu['index']==0].copy()\n",
    "    GPU1_data = job_power_data_gpu[job_power_data_gpu['index']==1].copy()\n",
    "    GPU2_data = job_power_data_gpu[job_power_data_gpu['index']==2].copy()\n",
    "    GPU3_data = job_power_data_gpu[job_power_data_gpu['index']==3].copy()\n",
    "    GPU4_data = job_power_data_gpu[job_power_data_gpu['index']==4].copy()\n",
    "    GPU5_data = job_power_data_gpu[job_power_data_gpu['index']==5].copy()\n",
    "    GPU6_data = job_power_data_gpu[job_power_data_gpu['index']==6].copy()\n",
    "    GPU7_data = job_power_data_gpu[job_power_data_gpu['index']==7].copy()\n",
    "    \n",
    "    GPU0_data = GPU0_data.set_index('time').resample(per).mean()\n",
    "    GPU1_data = GPU1_data.set_index('time').resample(per).mean()\n",
    "    GPU2_data = GPU2_data.set_index('time').resample(per).mean()\n",
    "    GPU3_data = GPU3_data.set_index('time').resample(per).mean()\n",
    "    GPU4_data = GPU4_data.set_index('time').resample(per).mean()\n",
    "    GPU5_data = GPU5_data.set_index('time').resample(per).mean()\n",
    "    GPU6_data = GPU6_data.set_index('time').resample(per).mean()\n",
    "    GPU7_data = GPU7_data.set_index('time').resample(per).mean()\n",
    "    \n",
    "    return(GPU0_data, GPU1_data, GPU2_data, GPU3_data, GPU4_data, GPU5_data, GPU6_data, GPU7_data)"
   ]
  },
  {
   "cell_type": "code",
   "execution_count": null,
   "id": "8fd0ccf9",
   "metadata": {},
   "outputs": [],
   "source": [
    "def reading_cpu_data(job, batch, n_gpu, ex_date, per):\n",
    "    \n",
    "    job_power_dir = dir + job +'/batch_' + str(batch) + '/' + str(n_gpu) + 'gpu/'\n",
    "   \n",
    "    job_power_data_cpu_top = pd.read_csv(job_power_dir + 'cpu_top_fixed' +'.csv')\n",
    "\n",
    "    job_power_data_cpu_top.drop(job_power_data_cpu_top.columns.difference(['time','cpu_us', 'cpu_sy']), 1, inplace=True)\n",
    "    \n",
    "    #********************************************************************\n",
    "    d1 = ex_date\n",
    "    d2 = date(1900,1,1)\n",
    "    result1 = abs(d2-d1).days\n",
    "    #********************************************************************\n",
    "    \n",
    "    job_power_data_cpu_top.time = pd.to_datetime(job_power_data_cpu_top.time, format='%H:%M:%S') + timedelta(result1) \n",
    "    job_power_data_cpu_top = job_power_data_cpu_top.set_index('time').resample(per).mean()\n",
    "    \n",
    "    job_power_data_cpu_top['cpu_util'] = job_power_data_cpu_top['cpu_us'] + job_power_data_cpu_top['cpu_sy']\n",
    "    \n",
    "    return (job_power_data_cpu_top)"
   ]
  },
  {
   "cell_type": "code",
   "execution_count": null,
   "id": "0c9ba597",
   "metadata": {},
   "outputs": [],
   "source": [
    "def calculating_power(job, batch, n_gpu, ex_date, per, storage_used):\n",
    "    \n",
    "    power_df = reading_cpu_data(job, batch, n_gpu, ex_date, per)\n",
    "    power_df.drop(columns=['cpu_us', 'cpu_sy'], inplace=True)\n",
    "\n",
    "    g0, g1, g2, g3, g4, g5, g6, g7 = reading_gpu_data(job, batch, n_gpu, per)\n",
    "    \n",
    "    date0 = g0.index[0]\n",
    "    date1 = g0.index[-1]\n",
    "    \n",
    "\n",
    "    power_df = power_df.loc[date0:date1].copy()\n",
    "    \n",
    "    if storage_used==True:\n",
    "        power_df['server_power'] = Pidle_server_with_storage + (Pmax_server_with_storage-Pidle_server_with_storage)*(power_df['cpu_util']/100)\n",
    "    else:\n",
    "        power_df['server_power'] = Pidle_server + (Pmax_server-Pidle_server)*(power_df['cpu_util']/100)\n",
    "    \n",
    "    power_df['gpu_power'] = 0\n",
    "    power_df['gpu_util'] = 0\n",
    "    \n",
    "    \n",
    "    if n_gpu==1:\n",
    "        power_df['gpu_power'] = g0['power']\n",
    "        power_df['gpu_util'] = g0['gpu_util']\n",
    "    elif n_gpu==2:\n",
    "        power_df['gpu_power'] = g0['power'] + g1['power']\n",
    "        power_df['avg_gpu_util'] = (g0['gpu_util'] + g1['gpu_util'])/2\n",
    "    elif n_gpu==3:\n",
    "        power_df['gpu_power'] = g0['power'] + g1['power'] + g2['power']\n",
    "        power_df['avg_gpu_util'] = (g0['gpu_util'] + g1['gpu_util'] + g2['gpu_util'])/3\n",
    "    elif n_gpu==4:\n",
    "        power_df['gpu_power'] = g0['power'] + g1['power'] + g2['power'] + g3['power']\n",
    "        power_df['avg_gpu_util'] = (g0['gpu_util'] + g1['gpu_util'] + g2['gpu_util'] + g3['gpu_util'])/4\n",
    "    elif n_gpu==5:\n",
    "        power_df['gpu_power'] = g0['power'] + g1['power'] + g2['power'] + g3['power'] + g4['power']\n",
    "        power_df['avg_gpu_util'] = (g0['gpu_util'] + g1['gpu_util'] + g2['gpu_util'] + g3['gpu_util'] + g4['gpu_util'])/5\n",
    "    elif n_gpu==6:\n",
    "        power_df['gpu_power'] = g0['power'] + g1['power'] + g2['power'] + g3['power'] + g4['power'] + g5['power']\n",
    "        power_df['avg_gpu_util'] = (g0['gpu_util'] + g1['gpu_util'] + g2['gpu_util'] + g3['gpu_util'] + g4['gpu_util'] + g5['gpu_util'])/6\n",
    "    elif n_gpu==7:\n",
    "        power_df['gpu_power'] = g0['power'] + g1['power'] + g2['power'] + g3['power'] + g4['power'] + g5['power'] + g6['power']\n",
    "        power_df['avg_gpu_util'] = (g0['gpu_util'] + g1['gpu_util'] + g2['gpu_util'] + g3['gpu_util'] + g4['gpu_util'] + g5['gpu_util'] + g6['gpu_util'])/7\n",
    "    elif n_gpu==8:\n",
    "        power_df['gpu_power'] = g0['power'] + g1['power'] + g2['power'] + g3['power'] + g4['power'] + g5['power'] + g6['power'] + g7['power']\n",
    "        power_df['avg_gpu_util'] = (g0['gpu_util'] + g1['gpu_util'] + g2['gpu_util'] + g3['gpu_util'] + g4['gpu_util'] + g5['gpu_util'] + g6['gpu_util'] + g7['gpu_util'])/8\n",
    "\n",
    "    power_df['tot_power'] = power_df['server_power'] + power_df['gpu_power']\n",
    "    \n",
    "    \n",
    "    return (power_df)"
   ]
  },
  {
   "cell_type": "code",
   "execution_count": null,
   "id": "180ea94d",
   "metadata": {},
   "outputs": [],
   "source": [
    "def avg_time_per_epoch(job, batch, n_gpu, up_time):\n",
    "    \n",
    "    g0, g1, g2, g3, g4, g5, g6, g7 = reading_gpu_data(job, batch, n_gpu, period)\n",
    "    \n",
    "    date0 = g0.index[0]\n",
    "    date1 = g0.index[-1]\n",
    "    \n",
    "    avg_time_epoch = abs(date1-date0) - timedelta(seconds=up_time)\n",
    "    \n",
    "    return (avg_time_epoch)"
   ]
  },
  {
   "cell_type": "code",
   "execution_count": null,
   "id": "5f16e004",
   "metadata": {},
   "outputs": [],
   "source": [
    "def estimated_total_time(job, batch, n_gpu, up_time, num_epochs):\n",
    "    \n",
    "    avg_time_epoch = avg_time_per_epoch(job, batch, n_gpu, up_time)\n",
    "    jct = timedelta(seconds=up_time) + num_epochs*avg_time_epoch\n",
    "    \n",
    "    return (jct)"
   ]
  },
  {
   "cell_type": "code",
   "execution_count": null,
   "id": "388c40b6",
   "metadata": {},
   "outputs": [],
   "source": [
    "def estimated_total_energy(job, batch, n_gpu, ex_date, per, up_time, num_epochs, storage_used):\n",
    "    \n",
    "    power_df = calculating_power(job, batch, n_gpu, ex_date, per, storage_used)\n",
    "    average_tot_power = power_df.tot_power.mean() #watt\n",
    "    \n",
    "    total_time = estimated_total_time(job, batch, n_gpu, up_time, num_epochs)\n",
    "    runtime_hour = total_time.total_seconds()/3600.0 #hour, H\n",
    "    \n",
    "    tot_energy = (average_tot_power * runtime_hour)/1000 #KwH\n",
    "    \n",
    "    return (tot_energy)"
   ]
  },
  {
   "cell_type": "markdown",
   "id": "b7e6004e",
   "metadata": {},
   "source": [
    "# VGG16"
   ]
  },
  {
   "cell_type": "code",
   "execution_count": null,
   "id": "0d5a3db2",
   "metadata": {},
   "outputs": [],
   "source": [
    "up_time = [15, 25, 20, 25, 25, 35, 30]\n",
    "\n",
    "x = np.zeros(8)\n",
    "for i in range(2, 8):\n",
    "    #print(estimated_total_energy('vgg16', 512, i, date(2022,8,4), period, up_time[i-1], 90, True))\n",
    "    #print(avg_time_per_epoch('vgg16', 512, i, up_time[i-1]))\n",
    "     print(estimated_total_time('vgg16', 512, i, up_time[i-1], 90)) "
   ]
  },
  {
   "cell_type": "code",
   "execution_count": null,
   "id": "56beecf7",
   "metadata": {},
   "outputs": [],
   "source": [
    " print(estimated_total_energy('vgg16', 512, 8, date(2022,8,2), period, 30, 90, True))"
   ]
  },
  {
   "cell_type": "code",
   "execution_count": null,
   "id": "8972b71e",
   "metadata": {},
   "outputs": [],
   "source": [
    " print(avg_time_per_epoch('vgg16', 512, 8, 30))"
   ]
  },
  {
   "cell_type": "code",
   "execution_count": null,
   "id": "37069f0e",
   "metadata": {},
   "outputs": [],
   "source": [
    " print(estimated_total_time('vgg16', 512, 8, 30, 90))"
   ]
  },
  {
   "cell_type": "markdown",
   "id": "d37e9a73",
   "metadata": {},
   "source": [
    "# Plots"
   ]
  },
  {
   "cell_type": "code",
   "execution_count": null,
   "id": "d36e0e66",
   "metadata": {},
   "outputs": [],
   "source": [
    "up_time = [15, 25, 20, 25, 25, 35, 30]\n",
    "\n",
    "energy = np.zeros(8)\n",
    "jct = np.zeros(8)\n",
    "avg_epoch = np.zeros(8)\n",
    "\n",
    "for i in range(2, 8):\n",
    "    energy[i-1] = estimated_total_energy('vgg16', 512, i, date(2022,8,4), period, up_time[i-1], 90, True)\n",
    "    avg_epoch[i-1] = avg_time_per_epoch('vgg16', 512, i, up_time[i-1]).total_seconds()\n",
    "    jct[i-1] = estimated_total_time('vgg16', 512, i, up_time[i-1], 90).total_seconds()\n",
    "        \n",
    "energy[7] = estimated_total_energy('vgg16', 512, 8, date(2022,8,2), period, 30, 90, True)\n",
    "avg_epoch[7] = avg_time_per_epoch('vgg16', 512, 8, 30).total_seconds()\n",
    "jct[7] = estimated_total_time('vgg16', 512, 8, 30, 90).total_seconds()       "
   ]
  },
  {
   "cell_type": "code",
   "execution_count": null,
   "id": "b4e77b59",
   "metadata": {},
   "outputs": [],
   "source": [
    "plt.plot(energy[1:8])"
   ]
  },
  {
   "cell_type": "code",
   "execution_count": null,
   "id": "e3fbbfb6",
   "metadata": {},
   "outputs": [],
   "source": []
  }
 ],
 "metadata": {
  "kernelspec": {
   "display_name": "Python 3",
   "language": "python",
   "name": "python3"
  },
  "language_info": {
   "codemirror_mode": {
    "name": "ipython",
    "version": 3
   },
   "file_extension": ".py",
   "mimetype": "text/x-python",
   "name": "python",
   "nbconvert_exporter": "python",
   "pygments_lexer": "ipython3",
   "version": "3.9.5"
  }
 },
 "nbformat": 4,
 "nbformat_minor": 5
}
