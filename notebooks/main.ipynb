{
 "cells": [
  {
   "cell_type": "code",
   "execution_count": null,
   "id": "dad17034",
   "metadata": {},
   "outputs": [],
   "source": [
    "import pandas as pd\n",
    "import numpy as np\n",
    "import os\n",
    "import datetime\n",
    "import matplotlib.pyplot as plt\n",
    "from opt_functions import SusRes_MBC\n",
    "from overheads import calc_overhead"
   ]
  },
  {
   "cell_type": "markdown",
   "id": "0b274b88",
   "metadata": {},
   "source": [
    "# Alexnet"
   ]
  },
  {
   "cell_type": "code",
   "execution_count": null,
   "id": "d9cfcd08",
   "metadata": {},
   "outputs": [],
   "source": [
    "average_power = 701\n",
    "\n",
    "average_time_per_epoch_sec = 2400\n",
    "num_epochs = 90\n",
    "\n",
    "minimum_completion_time = average_time_per_epoch_sec*num_epochs\n",
    "minimum_completion_time = datetime.timedelta(seconds=minimum_completion_time)\n",
    "minimum_completion_time"
   ]
  },
  {
   "cell_type": "code",
   "execution_count": null,
   "id": "6e50fce7",
   "metadata": {},
   "outputs": [],
   "source": [
    "opt_emiss, france_emiss, centralbrazil_emiss, germany_emiss, netherlands_emiss, m_germany_emiss, m_france_emiss, real_job_completion_time, opt_emiss_data = SusRes_MBC(average_power, average_time_per_epoch_sec, num_epochs, 2018, 10, 20)"
   ]
  },
  {
   "cell_type": "code",
   "execution_count": null,
   "id": "5d05ec67",
   "metadata": {
    "scrolled": true
   },
   "outputs": [],
   "source": [
    "opt_emiss"
   ]
  },
  {
   "cell_type": "code",
   "execution_count": null,
   "id": "c47604e4",
   "metadata": {},
   "outputs": [],
   "source": [
    "avg_delay_stop = 2.5\n",
    "avg_delay_resume = 36.7\n",
    "avg_delay_transfer = 51.48\n",
    "average_time_per_epoch_sec = 2400\n",
    "\n",
    "\n",
    "delay_of_SR = avg_delay_stop + avg_delay_resume\n",
    "delay_of_MBC = avg_delay_stop + avg_delay_transfer + avg_delay_resume\n",
    "\n",
    "number_of_SR, number_of_MBC, total_delay_overhead = calc_overhead(opt_emiss_data, delay_of_SR, delay_of_MBC, average_time_per_epoch_sec)"
   ]
  }
 ],
 "metadata": {
  "kernelspec": {
   "display_name": "Python 3",
   "language": "python",
   "name": "python3"
  },
  "language_info": {
   "codemirror_mode": {
    "name": "ipython",
    "version": 3
   },
   "file_extension": ".py",
   "mimetype": "text/x-python",
   "name": "python",
   "nbconvert_exporter": "python",
   "pygments_lexer": "ipython3",
   "version": "3.9.5"
  }
 },
 "nbformat": 4,
 "nbformat_minor": 5
}
