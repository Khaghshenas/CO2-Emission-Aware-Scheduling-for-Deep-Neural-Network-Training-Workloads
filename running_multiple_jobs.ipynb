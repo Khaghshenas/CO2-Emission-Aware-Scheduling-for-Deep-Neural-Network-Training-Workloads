{
 "cells": [
  {
   "cell_type": "code",
   "execution_count": null,
   "id": "0134f87a",
   "metadata": {},
   "outputs": [],
   "source": [
    "import pandas as pd\n",
    "import numpy as np\n",
    "import os\n",
    "import datetime\n",
    "from datetime import datetime, date, time, timezone\n",
    "from datetime import timedelta  \n",
    "import matplotlib.pyplot as plt\n",
    "import string\n",
    "from opt_functions import SusRes_MBC"
   ]
  },
  {
   "cell_type": "code",
   "execution_count": null,
   "id": "49eee36d",
   "metadata": {},
   "outputs": [],
   "source": [
    "#*********************************************************************\n",
    "job_power_dir = '/Data_logs/outputs_multi_jobs/power_logs_aps_lstm/'\n",
    "#*********************************************************************"
   ]
  },
  {
   "cell_type": "code",
   "execution_count": null,
   "id": "2dd4b6ad",
   "metadata": {},
   "outputs": [],
   "source": [
    "job_power_data_gpu = pd.read_csv(job_power_dir + 'gpu_nvidia' +'.csv')\n",
    "job_power_data_gpu.columns = [c.replace(' ', '_') for c in job_power_data_gpu.columns]\n",
    "job_power_data_gpu.rename(columns={\"_power.draw_[W]\": \"power\", \"_timestamp\":\"time\", \"_utilization.gpu_[%]\":\"gpu_util\"\n",
    "                              , \"_temperature.gpu\":\"gpu_temp\", \"\":\"\"}, inplace=True)\n",
    "\n",
    "job_power_data_gpu.drop(job_power_data_gpu.columns.difference(['index','power','time', 'gpu_util', 'gpu_temp', 'memory_used(MiB)', 'memory_total(MiB)']), 1, inplace=True)\n",
    "\n",
    "job_power_data_gpu.power = job_power_data_gpu.power.str.replace('[^\\d.]', '').astype(float)\n",
    "job_power_data_gpu.gpu_util = job_power_data_gpu.gpu_util.str.replace('[^\\d.]', '').astype(float)\n",
    "\n",
    "job_power_data_gpu['time'] = job_power_data_gpu['time'].str.replace('\\.\\d\\d\\d', '')\n",
    "job_power_data_gpu.time = pd.to_datetime(job_power_data_gpu.time, format='%Y-%m-%d %H:%M:%S')"
   ]
  },
  {
   "cell_type": "code",
   "execution_count": null,
   "id": "c36edd10",
   "metadata": {},
   "outputs": [],
   "source": [
    "GPU0_data_aps_lstm = job_power_data_gpu[job_power_data_gpu['index']==0].copy()\n",
    "GPU1_data_aps_lstm = job_power_data_gpu[job_power_data_gpu['index']==1].copy()\n",
    "GPU2_data_aps_lstm = job_power_data_gpu[job_power_data_gpu['index']==2].copy()\n",
    "GPU3_data_aps_lstm = job_power_data_gpu[job_power_data_gpu['index']==3].copy()\n",
    "GPU4_data_aps_lstm = job_power_data_gpu[job_power_data_gpu['index']==4].copy()\n",
    "GPU5_data_aps_lstm = job_power_data_gpu[job_power_data_gpu['index']==5].copy()\n",
    "GPU6_data_aps_lstm = job_power_data_gpu[job_power_data_gpu['index']==6].copy()\n",
    "GPU7_data_aps_lstm = job_power_data_gpu[job_power_data_gpu['index']==7].copy()"
   ]
  },
  {
   "cell_type": "code",
   "execution_count": null,
   "id": "84bdf37d",
   "metadata": {},
   "outputs": [],
   "source": [
    "GPU0_data_aps_lstm = GPU0_data_aps_lstm.set_index('time').resample('15s').mean()\n",
    "GPU1_data_aps_lstm = GPU1_data_aps_lstm.set_index('time').resample('15s').mean()\n",
    "GPU2_data_aps_lstm = GPU2_data_aps_lstm.set_index('time').resample('15s').mean()\n",
    "GPU3_data_aps_lstm = GPU3_data_aps_lstm.set_index('time').resample('15s').mean()\n",
    "GPU4_data_aps_lstm = GPU4_data_aps_lstm.set_index('time').resample('15s').mean()\n",
    "GPU5_data_aps_lstm = GPU5_data_aps_lstm.set_index('time').resample('15s').mean()\n",
    "GPU6_data_aps_lstm = GPU6_data_aps_lstm.set_index('time').resample('15s').mean()\n",
    "GPU7_data_aps_lstm = GPU7_data_aps_lstm.set_index('time').resample('15s').mean()"
   ]
  },
  {
   "cell_type": "code",
   "execution_count": null,
   "id": "22f6830c",
   "metadata": {
    "scrolled": true
   },
   "outputs": [],
   "source": [
    "plt.figure(figsize=(7, 9))\n",
    "\n",
    "#####################---------------------------Power\n",
    "\n",
    "ax1 = plt.subplot(2,1,1)\n",
    "\n",
    "ax1 = GPU0_data_aps_lstm['power'].plot(grid=False, label='GPU0', legend=True)\n",
    "ax1 = GPU1_data_aps_lstm['power'].plot(grid=False, label='GPU01', legend=True)\n",
    "ax1 = GPU2_data_aps_lstm['power'].plot(grid=False, label='GPU2', legend=True)\n",
    "ax1 = GPU3_data_aps_lstm['power'].plot(grid=False, label='GPU3', legend=True)\n",
    "ax1 = GPU4_data_aps_lstm['power'].plot(grid=False, label='GPU4', legend=True)\n",
    "ax1 = GPU5_data_aps_lstm['power'].plot(grid=False, label='GPU5', legend=True)\n",
    "ax1 = GPU6_data_aps_lstm['power'].plot(grid=False, label='GPU6', legend=True)\n",
    "ax1 = GPU7_data_aps_lstm['power'].plot(grid=False, label='GPU7', legend=True)\n",
    "\n",
    "ax1.set_ylabel('Power (Watt)', fontsize=15)\n",
    "ax1.set_xlabel('', fontsize=15)\n",
    "\n",
    "ax1.legend(ncol=4, bbox_to_anchor=(0, 1.15, 1., .102), prop={'size': 13})\n",
    "\n",
    "######################----------------------Temperature\n",
    "ax = plt.subplot(2,1,2)\n",
    "\n",
    "ax = GPU0_data_aps_lstm['gpu_temp'].plot(grid=False, label='GPU0', legend=False)\n",
    "ax = GPU1_data_aps_lstm['gpu_temp'].plot(grid=False, label='GPU1', legend=False)\n",
    "ax = GPU2_data_aps_lstm['gpu_temp'].plot(grid=False, label='GPU2', legend=False)\n",
    "ax = GPU3_data_aps_lstm['gpu_temp'].plot(grid=False, label='GPU3', legend=False)\n",
    "ax = GPU4_data_aps_lstm['gpu_temp'].plot(grid=False, label='GPU4', legend=False)\n",
    "ax = GPU5_data_aps_lstm['gpu_temp'].plot(grid=False, label='GPU5', legend=False)\n",
    "ax = GPU6_data_aps_lstm['gpu_temp'].plot(grid=False, label='GPU6', legend=False)\n",
    "ax = GPU7_data_aps_lstm['gpu_temp'].plot(grid=False, label='GPU7', legend=False)\n",
    "\n",
    "ax.set_ylabel('Temperature (C)', fontsize=15)\n",
    "ax.set_xlabel('Time (H)', fontsize=15)"
   ]
  }
 ],
 "metadata": {
  "kernelspec": {
   "display_name": "Python 3",
   "language": "python",
   "name": "python3"
  },
  "language_info": {
   "codemirror_mode": {
    "name": "ipython",
    "version": 3
   },
   "file_extension": ".py",
   "mimetype": "text/x-python",
   "name": "python",
   "nbconvert_exporter": "python",
   "pygments_lexer": "ipython3",
   "version": "3.9.5"
  }
 },
 "nbformat": 4,
 "nbformat_minor": 5
}
